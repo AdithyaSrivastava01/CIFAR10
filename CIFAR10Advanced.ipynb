{
  "nbformat": 4,
  "nbformat_minor": 0,
  "metadata": {
    "colab": {
      "provenance": [],
      "collapsed_sections": [],
      "authorship_tag": "ABX9TyMY9/tbVahsX0PLuXFKf/EN",
      "include_colab_link": true
    },
    "kernelspec": {
      "name": "python3",
      "display_name": "Python 3"
    },
    "language_info": {
      "name": "python"
    },
    "accelerator": "GPU",
    "gpuClass": "standard",
    "widgets": {
      "application/vnd.jupyter.widget-state+json": {
        "7c3e6da4ff36468d91446f60a2335182": {
          "model_module": "@jupyter-widgets/controls",
          "model_name": "HBoxModel",
          "model_module_version": "1.5.0",
          "state": {
            "_dom_classes": [],
            "_model_module": "@jupyter-widgets/controls",
            "_model_module_version": "1.5.0",
            "_model_name": "HBoxModel",
            "_view_count": null,
            "_view_module": "@jupyter-widgets/controls",
            "_view_module_version": "1.5.0",
            "_view_name": "HBoxView",
            "box_style": "",
            "children": [
              "IPY_MODEL_72ed069492914abca7ab91a3b0ad465a",
              "IPY_MODEL_7a8f61b5047349f787d38e222ee67824",
              "IPY_MODEL_38dd814d9bec48f299c814fa7b0e09b0"
            ],
            "layout": "IPY_MODEL_4427344784b1497389d2799676513adc"
          }
        },
        "72ed069492914abca7ab91a3b0ad465a": {
          "model_module": "@jupyter-widgets/controls",
          "model_name": "HTMLModel",
          "model_module_version": "1.5.0",
          "state": {
            "_dom_classes": [],
            "_model_module": "@jupyter-widgets/controls",
            "_model_module_version": "1.5.0",
            "_model_name": "HTMLModel",
            "_view_count": null,
            "_view_module": "@jupyter-widgets/controls",
            "_view_module_version": "1.5.0",
            "_view_name": "HTMLView",
            "description": "",
            "description_tooltip": null,
            "layout": "IPY_MODEL_e3b4869ea17d4ba59dddad1e00ac2fba",
            "placeholder": "​",
            "style": "IPY_MODEL_42616529b3c94ba08b08eef4f062c05e",
            "value": ""
          }
        },
        "7a8f61b5047349f787d38e222ee67824": {
          "model_module": "@jupyter-widgets/controls",
          "model_name": "FloatProgressModel",
          "model_module_version": "1.5.0",
          "state": {
            "_dom_classes": [],
            "_model_module": "@jupyter-widgets/controls",
            "_model_module_version": "1.5.0",
            "_model_name": "FloatProgressModel",
            "_view_count": null,
            "_view_module": "@jupyter-widgets/controls",
            "_view_module_version": "1.5.0",
            "_view_name": "ProgressView",
            "bar_style": "success",
            "description": "",
            "description_tooltip": null,
            "layout": "IPY_MODEL_ea4a68fe1e754aec9aafb1684ae7fef9",
            "max": 135107811,
            "min": 0,
            "orientation": "horizontal",
            "style": "IPY_MODEL_83c7da9a6fb94df48ef5b923a07a6080",
            "value": 135107811
          }
        },
        "38dd814d9bec48f299c814fa7b0e09b0": {
          "model_module": "@jupyter-widgets/controls",
          "model_name": "HTMLModel",
          "model_module_version": "1.5.0",
          "state": {
            "_dom_classes": [],
            "_model_module": "@jupyter-widgets/controls",
            "_model_module_version": "1.5.0",
            "_model_name": "HTMLModel",
            "_view_count": null,
            "_view_module": "@jupyter-widgets/controls",
            "_view_module_version": "1.5.0",
            "_view_name": "HTMLView",
            "description": "",
            "description_tooltip": null,
            "layout": "IPY_MODEL_411cc4ca03054977b252a61dfc3977bc",
            "placeholder": "​",
            "style": "IPY_MODEL_580e442ecd704693b70f3f95697bd125",
            "value": " 135108608/? [00:03&lt;00:00, 31468950.79it/s]"
          }
        },
        "4427344784b1497389d2799676513adc": {
          "model_module": "@jupyter-widgets/base",
          "model_name": "LayoutModel",
          "model_module_version": "1.2.0",
          "state": {
            "_model_module": "@jupyter-widgets/base",
            "_model_module_version": "1.2.0",
            "_model_name": "LayoutModel",
            "_view_count": null,
            "_view_module": "@jupyter-widgets/base",
            "_view_module_version": "1.2.0",
            "_view_name": "LayoutView",
            "align_content": null,
            "align_items": null,
            "align_self": null,
            "border": null,
            "bottom": null,
            "display": null,
            "flex": null,
            "flex_flow": null,
            "grid_area": null,
            "grid_auto_columns": null,
            "grid_auto_flow": null,
            "grid_auto_rows": null,
            "grid_column": null,
            "grid_gap": null,
            "grid_row": null,
            "grid_template_areas": null,
            "grid_template_columns": null,
            "grid_template_rows": null,
            "height": null,
            "justify_content": null,
            "justify_items": null,
            "left": null,
            "margin": null,
            "max_height": null,
            "max_width": null,
            "min_height": null,
            "min_width": null,
            "object_fit": null,
            "object_position": null,
            "order": null,
            "overflow": null,
            "overflow_x": null,
            "overflow_y": null,
            "padding": null,
            "right": null,
            "top": null,
            "visibility": null,
            "width": null
          }
        },
        "e3b4869ea17d4ba59dddad1e00ac2fba": {
          "model_module": "@jupyter-widgets/base",
          "model_name": "LayoutModel",
          "model_module_version": "1.2.0",
          "state": {
            "_model_module": "@jupyter-widgets/base",
            "_model_module_version": "1.2.0",
            "_model_name": "LayoutModel",
            "_view_count": null,
            "_view_module": "@jupyter-widgets/base",
            "_view_module_version": "1.2.0",
            "_view_name": "LayoutView",
            "align_content": null,
            "align_items": null,
            "align_self": null,
            "border": null,
            "bottom": null,
            "display": null,
            "flex": null,
            "flex_flow": null,
            "grid_area": null,
            "grid_auto_columns": null,
            "grid_auto_flow": null,
            "grid_auto_rows": null,
            "grid_column": null,
            "grid_gap": null,
            "grid_row": null,
            "grid_template_areas": null,
            "grid_template_columns": null,
            "grid_template_rows": null,
            "height": null,
            "justify_content": null,
            "justify_items": null,
            "left": null,
            "margin": null,
            "max_height": null,
            "max_width": null,
            "min_height": null,
            "min_width": null,
            "object_fit": null,
            "object_position": null,
            "order": null,
            "overflow": null,
            "overflow_x": null,
            "overflow_y": null,
            "padding": null,
            "right": null,
            "top": null,
            "visibility": null,
            "width": null
          }
        },
        "42616529b3c94ba08b08eef4f062c05e": {
          "model_module": "@jupyter-widgets/controls",
          "model_name": "DescriptionStyleModel",
          "model_module_version": "1.5.0",
          "state": {
            "_model_module": "@jupyter-widgets/controls",
            "_model_module_version": "1.5.0",
            "_model_name": "DescriptionStyleModel",
            "_view_count": null,
            "_view_module": "@jupyter-widgets/base",
            "_view_module_version": "1.2.0",
            "_view_name": "StyleView",
            "description_width": ""
          }
        },
        "ea4a68fe1e754aec9aafb1684ae7fef9": {
          "model_module": "@jupyter-widgets/base",
          "model_name": "LayoutModel",
          "model_module_version": "1.2.0",
          "state": {
            "_model_module": "@jupyter-widgets/base",
            "_model_module_version": "1.2.0",
            "_model_name": "LayoutModel",
            "_view_count": null,
            "_view_module": "@jupyter-widgets/base",
            "_view_module_version": "1.2.0",
            "_view_name": "LayoutView",
            "align_content": null,
            "align_items": null,
            "align_self": null,
            "border": null,
            "bottom": null,
            "display": null,
            "flex": null,
            "flex_flow": null,
            "grid_area": null,
            "grid_auto_columns": null,
            "grid_auto_flow": null,
            "grid_auto_rows": null,
            "grid_column": null,
            "grid_gap": null,
            "grid_row": null,
            "grid_template_areas": null,
            "grid_template_columns": null,
            "grid_template_rows": null,
            "height": null,
            "justify_content": null,
            "justify_items": null,
            "left": null,
            "margin": null,
            "max_height": null,
            "max_width": null,
            "min_height": null,
            "min_width": null,
            "object_fit": null,
            "object_position": null,
            "order": null,
            "overflow": null,
            "overflow_x": null,
            "overflow_y": null,
            "padding": null,
            "right": null,
            "top": null,
            "visibility": null,
            "width": null
          }
        },
        "83c7da9a6fb94df48ef5b923a07a6080": {
          "model_module": "@jupyter-widgets/controls",
          "model_name": "ProgressStyleModel",
          "model_module_version": "1.5.0",
          "state": {
            "_model_module": "@jupyter-widgets/controls",
            "_model_module_version": "1.5.0",
            "_model_name": "ProgressStyleModel",
            "_view_count": null,
            "_view_module": "@jupyter-widgets/base",
            "_view_module_version": "1.2.0",
            "_view_name": "StyleView",
            "bar_color": null,
            "description_width": ""
          }
        },
        "411cc4ca03054977b252a61dfc3977bc": {
          "model_module": "@jupyter-widgets/base",
          "model_name": "LayoutModel",
          "model_module_version": "1.2.0",
          "state": {
            "_model_module": "@jupyter-widgets/base",
            "_model_module_version": "1.2.0",
            "_model_name": "LayoutModel",
            "_view_count": null,
            "_view_module": "@jupyter-widgets/base",
            "_view_module_version": "1.2.0",
            "_view_name": "LayoutView",
            "align_content": null,
            "align_items": null,
            "align_self": null,
            "border": null,
            "bottom": null,
            "display": null,
            "flex": null,
            "flex_flow": null,
            "grid_area": null,
            "grid_auto_columns": null,
            "grid_auto_flow": null,
            "grid_auto_rows": null,
            "grid_column": null,
            "grid_gap": null,
            "grid_row": null,
            "grid_template_areas": null,
            "grid_template_columns": null,
            "grid_template_rows": null,
            "height": null,
            "justify_content": null,
            "justify_items": null,
            "left": null,
            "margin": null,
            "max_height": null,
            "max_width": null,
            "min_height": null,
            "min_width": null,
            "object_fit": null,
            "object_position": null,
            "order": null,
            "overflow": null,
            "overflow_x": null,
            "overflow_y": null,
            "padding": null,
            "right": null,
            "top": null,
            "visibility": null,
            "width": null
          }
        },
        "580e442ecd704693b70f3f95697bd125": {
          "model_module": "@jupyter-widgets/controls",
          "model_name": "DescriptionStyleModel",
          "model_module_version": "1.5.0",
          "state": {
            "_model_module": "@jupyter-widgets/controls",
            "_model_module_version": "1.5.0",
            "_model_name": "DescriptionStyleModel",
            "_view_count": null,
            "_view_module": "@jupyter-widgets/base",
            "_view_module_version": "1.2.0",
            "_view_name": "StyleView",
            "description_width": ""
          }
        }
      }
    }
  },
  "cells": [
    {
      "cell_type": "markdown",
      "metadata": {
        "id": "view-in-github",
        "colab_type": "text"
      },
      "source": [
        "<a href=\"https://colab.research.google.com/github/AdithyaSrivastava01/CIFAR10/blob/main/CIFAR10Advanced.ipynb\" target=\"_parent\"><img src=\"https://colab.research.google.com/assets/colab-badge.svg\" alt=\"Open In Colab\"/></a>"
      ]
    },
    {
      "cell_type": "code",
      "execution_count": null,
      "metadata": {
        "id": "xuaPcYfZs5ph"
      },
      "outputs": [],
      "source": [
        "import torch\n",
        "import torchvision\n",
        "import torchvision.transforms as tt\n",
        "from torchvision.datasets import ImageFolder\n",
        "from torchvision.datasets.utils import download_url \n",
        "from torch.utils.data import random_split\n",
        "from torch.utils.data import DataLoader\n"
      ]
    },
    {
      "cell_type": "code",
      "source": [
        "url=\"https://s3.amazonaws.com/fast-ai-imageclas/cifar10.tgz\"\n",
        "download_url(url,'.')"
      ],
      "metadata": {
        "colab": {
          "base_uri": "https://localhost:8080/",
          "height": 66,
          "referenced_widgets": [
            "7c3e6da4ff36468d91446f60a2335182",
            "72ed069492914abca7ab91a3b0ad465a",
            "7a8f61b5047349f787d38e222ee67824",
            "38dd814d9bec48f299c814fa7b0e09b0",
            "4427344784b1497389d2799676513adc",
            "e3b4869ea17d4ba59dddad1e00ac2fba",
            "42616529b3c94ba08b08eef4f062c05e",
            "ea4a68fe1e754aec9aafb1684ae7fef9",
            "83c7da9a6fb94df48ef5b923a07a6080",
            "411cc4ca03054977b252a61dfc3977bc",
            "580e442ecd704693b70f3f95697bd125"
          ]
        },
        "id": "xzHgbuRXu3RE",
        "outputId": "aad716a5-a5e9-452f-8da9-89f59607f8c2"
      },
      "execution_count": null,
      "outputs": [
        {
          "output_type": "stream",
          "name": "stdout",
          "text": [
            "Downloading https://s3.amazonaws.com/fast-ai-imageclas/cifar10.tgz to ./cifar10.tgz\n"
          ]
        },
        {
          "output_type": "display_data",
          "data": {
            "text/plain": [
              "  0%|          | 0/135107811 [00:00<?, ?it/s]"
            ],
            "application/vnd.jupyter.widget-view+json": {
              "version_major": 2,
              "version_minor": 0,
              "model_id": "7c3e6da4ff36468d91446f60a2335182"
            }
          },
          "metadata": {}
        }
      ]
    },
    {
      "cell_type": "code",
      "source": [
        "import tarfile"
      ],
      "metadata": {
        "id": "AKm9ZP5qviQi"
      },
      "execution_count": null,
      "outputs": []
    },
    {
      "cell_type": "code",
      "source": [
        "with tarfile.open('./cifar10.tgz', 'r:gz') as tar:\n",
        "  tar.extractall(path=\"./data\")#path gives where the extracted data must go"
      ],
      "metadata": {
        "id": "VxQNyh8XvnPI"
      },
      "execution_count": null,
      "outputs": []
    },
    {
      "cell_type": "code",
      "source": [
        "import os"
      ],
      "metadata": {
        "id": "akRUeuniv7-h"
      },
      "execution_count": null,
      "outputs": []
    },
    {
      "cell_type": "code",
      "source": [
        "path=\"./data/cifar10/\"\n",
        "# Data transforms (normalization & data augmentation)\n",
        "stats = ((0.4914, 0.4822, 0.4465), (0.2023, 0.1994, 0.2010))#normalizing based on the mean and the variance\n",
        "train_tfms = tt.Compose([tt.RandomCrop(32, padding=4, padding_mode='reflect'), #randomly crops a segment of image after adding padding \n",
        "                                                                               #Pads the input tensor using the reflection of the input boundary.\n",
        "                         tt.RandomHorizontalFlip(), \n",
        "                         # tt.RandomRotate\n",
        "                         # tt.RandomResizedCrop(256, scale=(0.5,0.9), ratio=(1, 1)), \n",
        "                         # tt.ColorJitter(brightness=0.1, contrast=0.1, saturation=0.1, hue=0.1),\n",
        "                         tt.ToTensor(), \n",
        "                         tt.Normalize(*stats,inplace=True)])\n",
        "#includes both data augmentation and channel normalization\n",
        "test_tfms = tt.Compose([tt.ToTensor(), tt.Normalize(*stats)])#composes all the image transform into one transform "
      ],
      "metadata": {
        "id": "I3M_W8uewqf2"
      },
      "execution_count": null,
      "outputs": []
    },
    {
      "cell_type": "code",
      "source": [
        "train_ds=ImageFolder(path+\"train\",train_tfms)#calls the transform function to change the neccessary changes.\n",
        "#print(*train_ds[0])\n",
        "test_ds=ImageFolder(path+\"test\",test_tfms)"
      ],
      "metadata": {
        "id": "LaNHgvl9F8VV"
      },
      "execution_count": null,
      "outputs": []
    },
    {
      "cell_type": "code",
      "source": [
        "len(train_ds)"
      ],
      "metadata": {
        "id": "SDaIm-UvGmUI",
        "colab": {
          "base_uri": "https://localhost:8080/"
        },
        "outputId": "9870fc0a-a81d-4d0b-faf6-66b8f14d8e80"
      },
      "execution_count": null,
      "outputs": [
        {
          "output_type": "execute_result",
          "data": {
            "text/plain": [
              "50000"
            ]
          },
          "metadata": {},
          "execution_count": 8
        }
      ]
    },
    {
      "cell_type": "code",
      "source": [
        "len(test_ds)"
      ],
      "metadata": {
        "colab": {
          "base_uri": "https://localhost:8080/"
        },
        "id": "rCi3cpXL8g-C",
        "outputId": "91aa1107-f4ca-4b71-b803-4769f5b8cc62"
      },
      "execution_count": null,
      "outputs": [
        {
          "output_type": "execute_result",
          "data": {
            "text/plain": [
              "10000"
            ]
          },
          "metadata": {},
          "execution_count": 9
        }
      ]
    },
    {
      "cell_type": "code",
      "source": [
        "batch_size=400"
      ],
      "metadata": {
        "id": "uEIx0otj8kzg"
      },
      "execution_count": null,
      "outputs": []
    },
    {
      "cell_type": "code",
      "source": [
        "#to make the image in [0,1] range we make the means and stds into tensor of batch and 3 channels and pixel of 1px and 1px of height and weight.\n",
        "def denormalize(images, means, stds):\n",
        "    means = torch.tensor(means).reshape(3, 1, 1)\n",
        "    stds = torch.tensor(stds).reshape(3, 1, 1)\n",
        "    return images * stds + means"
      ],
      "metadata": {
        "id": "ZiUB21h98oIy"
      },
      "execution_count": null,
      "outputs": []
    },
    {
      "cell_type": "code",
      "source": [
        "train_dl=DataLoader(train_ds,batch_size,shuffle=True,num_workers=4, pin_memory=True)#num_workers and pin_memory makes sure that the no. of cores of the cpu are being used"
      ],
      "metadata": {
        "id": "HQQdS1H48toa",
        "colab": {
          "base_uri": "https://localhost:8080/"
        },
        "outputId": "4de63f5f-6771-490e-8212-ef9dbf270510"
      },
      "execution_count": null,
      "outputs": [
        {
          "output_type": "stream",
          "name": "stderr",
          "text": [
            "/usr/local/lib/python3.7/dist-packages/torch/utils/data/dataloader.py:490: UserWarning: This DataLoader will create 4 worker processes in total. Our suggested max number of worker in current system is 2, which is smaller than what this DataLoader is going to create. Please be aware that excessive worker creation might get DataLoader running slow or even freeze, lower the worker number to avoid potential slowness/freeze if necessary.\n",
            "  cpuset_checked))\n"
          ]
        }
      ]
    },
    {
      "cell_type": "code",
      "source": [
        "test_dl=DataLoader(test_ds,batch_size)#num_workers and pin_memory makes sure that the no. of cores of the cpu are being used"
      ],
      "metadata": {
        "id": "XIg5VosMDBhH"
      },
      "execution_count": null,
      "outputs": []
    },
    {
      "cell_type": "code",
      "source": [
        "#The Model which we will be incorporating is the ResNet9 with many repetitive layers."
      ],
      "metadata": {
        "id": "Vr63l7KKDIoH"
      },
      "execution_count": null,
      "outputs": []
    },
    {
      "cell_type": "code",
      "source": [
        "list=[3,5,2,7]\n",
        "print(*list,sep=\",\")"
      ],
      "metadata": {
        "colab": {
          "base_uri": "https://localhost:8080/"
        },
        "id": "r2T49LpfDdQc",
        "outputId": "d28a923a-fb85-49f1-e9a4-13e6344455f4"
      },
      "execution_count": null,
      "outputs": [
        {
          "output_type": "stream",
          "name": "stdout",
          "text": [
            "3,5,2,7\n"
          ]
        }
      ]
    },
    {
      "cell_type": "code",
      "source": [
        "import torch.nn as nn\n",
        "import torch.nn.functional as F "
      ],
      "metadata": {
        "id": "NwwR3lXPEeSJ"
      },
      "execution_count": null,
      "outputs": []
    },
    {
      "cell_type": "code",
      "source": [
        "def conv2d(inp,out,pool=False):\n",
        "  layers=[nn.Conv2d(inp,out,kernel_size=3,padding=1),nn.BatchNorm2d(out),nn.ReLU(inplace=True)]\n",
        "  if(pool):\n",
        "    layers.append(nn.MaxPool2d(2))\n",
        "  return nn.Sequential(*layers)"
      ],
      "metadata": {
        "id": "jRnCvyZCDuio"
      },
      "execution_count": null,
      "outputs": []
    },
    {
      "cell_type": "code",
      "source": [
        "class ResNet9Model(nn.Module):\n",
        "  def __init__(self,inp,out):\n",
        "    super().__init__()\n",
        "    self.conv1=conv2d(inp,64)\n",
        "    self.conv2=conv2d(64,128,pool=True)\n",
        "    self.res1=nn.Sequential(conv2d(128,128),conv2d(128,128))\n",
        "    self.conv3 = conv2d(128, 256, pool=True)\n",
        "    self.conv4 = conv2d(256, 512, pool=True)\n",
        "    self.res2 = nn.Sequential(conv2d(512, 512), conv2d(512, 512))\n",
        "\n",
        "    self.classifier=nn.Sequential(\n",
        "        nn.MaxPool2d(4),\n",
        "        nn.Flatten(),\n",
        "        nn.Dropout(0.2),\n",
        "        nn.Linear(512,out)\n",
        "\n",
        "    )\n",
        "  def forward(self,xb):\n",
        "    out=self.conv1(xb)\n",
        "    out=self.conv2(out)\n",
        "    out=self.res1(out)+out\n",
        "    out=self.conv3(out)\n",
        "    out=self.conv4(out)\n",
        "    out=self.res2(out)+out\n",
        "    out=self.classifier(out)\n",
        "    \n",
        "    return out\n",
        "\n",
        "\n",
        "\n",
        "\n",
        "\n"
      ],
      "metadata": {
        "id": "--53hAM2FKPf"
      },
      "execution_count": null,
      "outputs": []
    },
    {
      "cell_type": "code",
      "source": [
        "device = 'cuda' if torch.cuda.is_available() else 'cpu'\n"
      ],
      "metadata": {
        "id": "mU9XNvSBMZwq"
      },
      "execution_count": null,
      "outputs": []
    },
    {
      "cell_type": "code",
      "source": [
        "input_channels=3\n",
        "num_classes=10\n",
        "model=ResNet9Model(input_channels,num_classes).to(device)\n",
        "opt=torch.optim.Adam(model.parameters(),lr=1e-3)\n",
        "loss_fn=F.cross_entropy\n",
        "#model"
      ],
      "metadata": {
        "id": "gQfzWge7MH0D"
      },
      "execution_count": null,
      "outputs": []
    },
    {
      "cell_type": "code",
      "source": [
        "epochs = 8\n",
        "max_lr = 0.01\n",
        "grad_clip = 0.1\n",
        "weight_decay = 1e-4\n",
        "opt_func = torch.optim.Adam"
      ],
      "metadata": {
        "id": "zsqKo76RUUmO"
      },
      "execution_count": null,
      "outputs": []
    },
    {
      "cell_type": "code",
      "source": [
        "def train(epochs, max_lr, model, train_dl,loss_fn,weight_decay=0, grad_clip=None,opt=torch.optim.SGD):\n",
        "  torch.cuda.empty_cache()\n",
        "  model.train()\n",
        "  # Set up cutom optimizer with weight decay\n",
        "  opt= opt(model.parameters(), max_lr, weight_decay=weight_decay)\n",
        "    # Set up one-cycle learning rate scheduler\n",
        "  sched = torch.optim.lr_scheduler.OneCycleLR(opt, max_lr, epochs=epochs, \n",
        "                                                steps_per_epoch=len(train_dl))\n",
        "  for i in range(epochs):\n",
        "    for image,label in train_dl:\n",
        "      image,label=image.to(device),label.to(device)\n",
        "      pred=model(image)\n",
        "      loss=loss_fn(pred,label)\n",
        "      loss.backward()\n",
        "      # Gradient clipping\n",
        "      if grad_clip: \n",
        "          nn.utils.clip_grad_value_(model.parameters(), grad_clip)\n",
        "            \n",
        "      opt.step()\n",
        "      opt.zero_grad()\n",
        "\n",
        "      sched.step()\n",
        "    print(\"Epoch: \",i,\" completed\")\n"
      ],
      "metadata": {
        "id": "Gm8W5BIuL7S5"
      },
      "execution_count": null,
      "outputs": []
    },
    {
      "cell_type": "code",
      "source": [
        "train(epochs, max_lr, model, train_dl, loss_fn,weight_decay=weight_decay, grad_clip=grad_clip,opt=opt_func)"
      ],
      "metadata": {
        "colab": {
          "base_uri": "https://localhost:8080/"
        },
        "id": "wPCQbC-OOq9s",
        "outputId": "73f95854-1e39-4cc2-a743-3781e8da4952"
      },
      "execution_count": null,
      "outputs": [
        {
          "output_type": "stream",
          "name": "stderr",
          "text": [
            "/usr/local/lib/python3.7/dist-packages/torch/utils/data/dataloader.py:490: UserWarning: This DataLoader will create 4 worker processes in total. Our suggested max number of worker in current system is 2, which is smaller than what this DataLoader is going to create. Please be aware that excessive worker creation might get DataLoader running slow or even freeze, lower the worker number to avoid potential slowness/freeze if necessary.\n",
            "  cpuset_checked))\n"
          ]
        },
        {
          "output_type": "stream",
          "name": "stdout",
          "text": [
            "Epoch:  0  completed\n",
            "Epoch:  1  completed\n",
            "Epoch:  2  completed\n",
            "Epoch:  3  completed\n",
            "Epoch:  4  completed\n",
            "Epoch:  5  completed\n",
            "Epoch:  6  completed\n",
            "Epoch:  7  completed\n"
          ]
        }
      ]
    },
    {
      "cell_type": "code",
      "source": [
        "from sklearn.metrics import accuracy_score"
      ],
      "metadata": {
        "id": "Vz0wf0vlO3W6"
      },
      "execution_count": null,
      "outputs": []
    },
    {
      "cell_type": "code",
      "source": [
        "accuracy=[]\n",
        "with torch.no_grad():\n",
        "  model.eval()\n",
        "\n",
        "  for img,label in test_dl:\n",
        "    img,label=img.to(device),label.to(device)\n",
        "    pred=model(img)\n",
        "    probs=F.softmax(pred,dim=1)\n",
        "    max_prob,preds=torch.max(probs,dim=1)\n",
        "    preds=preds.cpu().numpy()\n",
        "    label=label.cpu().numpy()\n",
        "    accuracy+=[accuracy_score(preds,label)]\n",
        "\n"
      ],
      "metadata": {
        "id": "1D3eZWv6QTvz"
      },
      "execution_count": null,
      "outputs": []
    },
    {
      "cell_type": "code",
      "source": [
        "print(len(accuracy))\n",
        "accuracy_net=((sum(accuracy))/(len(accuracy)))*100\n",
        "print(\"the net accuracy of model is: \",accuracy_net,\"%\")"
      ],
      "metadata": {
        "colab": {
          "base_uri": "https://localhost:8080/"
        },
        "id": "6AoG8k6iSRtv",
        "outputId": "ff69090a-8cb9-4f80-eb1a-cf61ebc9c385"
      },
      "execution_count": null,
      "outputs": [
        {
          "output_type": "stream",
          "name": "stdout",
          "text": [
            "25\n",
            "the net accuracy of model is:  90.83000000000001 %\n"
          ]
        }
      ]
    },
    {
      "cell_type": "code",
      "source": [
        "#print(*test_dl)\n"
      ],
      "metadata": {
        "id": "YHRg6muNgd9Q"
      },
      "execution_count": null,
      "outputs": []
    },
    {
      "cell_type": "code",
      "source": [
        "torch.save(model.state_dict(), 'cifar10-resnet9.pth')"
      ],
      "metadata": {
        "id": "reliL7P1SpI2"
      },
      "execution_count": null,
      "outputs": []
    },
    {
      "cell_type": "code",
      "source": [
        "len(test_dl)"
      ],
      "metadata": {
        "colab": {
          "base_uri": "https://localhost:8080/"
        },
        "id": "LL3YG6Gwg_m4",
        "outputId": "5727058b-a583-4acd-b989-2d8ce2d47d51"
      },
      "execution_count": null,
      "outputs": [
        {
          "output_type": "execute_result",
          "data": {
            "text/plain": [
              "25"
            ]
          },
          "metadata": {},
          "execution_count": 110
        }
      ]
    },
    {
      "cell_type": "code",
      "source": [
        "img, label=test_ds[600]\n",
        "print(img.shape)\n",
        "test_new=test_ds.classes\n",
        "#img=ToTensor(img)\n",
        "with torch.no_grad():\n",
        "    model.eval()\n",
        "    pred = model(img.to(device).unsqueeze(0))\n",
        "    probs=F.softmax(pred,dim=1)\n",
        "    \n",
        "    max_probs, preds = torch.max(probs, dim=1)\n",
        "    print(test_new[preds])\n",
        "    print(max_probs.item())\n",
        "    print(test_new[label])\n",
        "print(img.shape)"
      ],
      "metadata": {
        "colab": {
          "base_uri": "https://localhost:8080/"
        },
        "id": "CtqOx-i4gaqV",
        "outputId": "586ba407-3a3c-4c6f-f183-d73e9ce6d493"
      },
      "execution_count": null,
      "outputs": [
        {
          "output_type": "stream",
          "name": "stdout",
          "text": [
            "torch.Size([3, 32, 32])\n",
            "airplane\n",
            "0.999996542930603\n",
            "airplane\n",
            "torch.Size([3, 32, 32])\n"
          ]
        }
      ]
    },
    {
      "cell_type": "code",
      "source": [
        "import matplotlib.pyplot as plt\n",
        "%matplotlib inline"
      ],
      "metadata": {
        "id": "1jvii8SEjDDe"
      },
      "execution_count": null,
      "outputs": []
    },
    {
      "cell_type": "code",
      "source": [
        "img.shape"
      ],
      "metadata": {
        "colab": {
          "base_uri": "https://localhost:8080/"
        },
        "id": "ljDBnv3NjX9V",
        "outputId": "77efd286-5cd1-47e6-eb15-caa54799a0ae"
      },
      "execution_count": null,
      "outputs": [
        {
          "output_type": "execute_result",
          "data": {
            "text/plain": [
              "torch.Size([3, 32, 32])"
            ]
          },
          "metadata": {},
          "execution_count": 125
        }
      ]
    },
    {
      "cell_type": "code",
      "source": [
        "img_new=denormalize(img,*stats)\n",
        "plt.imshow(img_new.permute(1,2,0))"
      ],
      "metadata": {
        "colab": {
          "base_uri": "https://localhost:8080/",
          "height": 283
        },
        "id": "0F0Ox-wLigFo",
        "outputId": "de871a5d-1144-49be-f856-d48dbdad6ef7"
      },
      "execution_count": null,
      "outputs": [
        {
          "output_type": "execute_result",
          "data": {
            "text/plain": [
              "<matplotlib.image.AxesImage at 0x7f03a0cf4b90>"
            ]
          },
          "metadata": {},
          "execution_count": 142
        },
        {
          "output_type": "display_data",
          "data": {
            "text/plain": [
              "<Figure size 432x288 with 1 Axes>"
            ],
            "image/png": "[encoded data removed]"
          },
          "metadata": {
            "needs_background": "light"
          }
        }
      ]
    },
    {
      "cell_type": "code",
      "source": [],
      "metadata": {
        "id": "TQq2-nM7jKtE"
      },
      "execution_count": null,
      "outputs": []
    }
  ]
}